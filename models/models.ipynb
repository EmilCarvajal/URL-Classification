{
 "cells": [
  {
   "cell_type": "markdown",
   "id": "e5ce9e20",
   "metadata": {},
   "source": [
    "## MODELS\n",
    "\n",
    "**Per poder classificar les URL considerarem les seguents tècniques d'aprenentatge computacional:**\n",
    "* SVM\n",
    "* NN\n",
    "* Regressió logística\n",
    "* Naive Bayes\n",
    "\n",
    "Hem triat aquestes tècniques ja que són tècniques clasificatories i el que volem aconseguir és clasificar les URL segons els seu contingut (Adult, News, Sport...)\n",
    "\n",
    "* SVM \n",
    "\n",
    "Els kernels, en els models de SVM, ens poden ajudar a clasificar correctament les dades que no es poden divir en hiperplans agregant dimensions a l'espai. Considerarem el kernels de \"linear\".\n",
    "\n",
    "* NN\n",
    "\n",
    "Els models que implemente la tècnica \"Nearest Neighbour\" clasifiquen un nou objecte en funció dels objectes que l'envolten. Si la majoria d'aquests objectes perteneixen a la categoria \"x\", si li asigna aquesta categoria al nou objecte. Aquest concepte és molt interesant en el nostre cas.\n",
    "\n",
    "* Regressió logística\n",
    "\n",
    "Aquesta tècnica es basa en la funció logística la qual es basa en les probabilitats i un llindar per clasificar. Pot ser util alhora de classificar un atribut categòric ordinari, just el que volem fer amb la nostra BD.\n",
    "\n",
    "* Naive Bayes\n",
    "\n",
    "L'algorisme classificador Naïve-Bayes (NBC) és un classificador probabilístic simple amb forta suposició d'independència. Encara que la suposició de la independència dels atributs és generalment una suposició pobra i es viola sovint pels conjunts de dades veritables. Sovint proporciona una millor precisió de classificació en conjunts de dades a temps real que qualsevol altre classificador."
   ]
  },
  {
   "cell_type": "code",
   "execution_count": 2,
   "id": "024245bd",
   "metadata": {},
   "outputs": [
    {
     "name": "stdout",
     "output_type": "stream",
     "text": [
      "models\n"
     ]
    }
   ],
   "source": [
    "print(\"models\")"
   ]
  },
  {
   "cell_type": "code",
   "execution_count": null,
   "id": "1b11e56e",
   "metadata": {},
   "outputs": [],
   "source": []
  }
 ],
 "metadata": {
  "kernelspec": {
   "display_name": "Python 3 (ipykernel)",
   "language": "python",
   "name": "python3"
  },
  "language_info": {
   "codemirror_mode": {
    "name": "ipython",
    "version": 3
   },
   "file_extension": ".py",
   "mimetype": "text/x-python",
   "name": "python",
   "nbconvert_exporter": "python",
   "pygments_lexer": "ipython3",
   "version": "3.7.11"
  }
 },
 "nbformat": 4,
 "nbformat_minor": 5
}
